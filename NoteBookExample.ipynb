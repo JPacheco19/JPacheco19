{
 "cells": [
  {
   "cell_type": "markdown",
   "metadata": {},
   "source": [
    "# TP1:  Exemplo de Notebook"
   ]
  },
  {
   "cell_type": "markdown",
   "metadata": {},
   "source": [
    "## Mecânica F1006: 2017-18"
   ]
  },
  {
   "cell_type": "markdown",
   "metadata": {},
   "source": [
    "Um notebook é composto de vários tipos de células. Esta é uma célula **Markdown** destinada a escrever texto e permite algumas formatações simples, incluíndo a escrita de equações. Clicando duas vezes dentro de um célula vemos o texto tal como foi digitado. se *executarmos* uma célula, fazendo SHIFT+ENTER , vemos o seu conteúdo formatado, se for uma célula **markdown**, ou o código python executado se for uma célula **code** .\n",
    "\n",
    "Há vários tipos de células:\n",
    "\n",
    "- Headings (títulos de 1 a 6, com a primeira deste notebook; são apenas células markdown começadas pelo simbolo # ou ## , conforme o nível de Heading)\n",
    "- markdown (esta)\n",
    "- code (células com código python (a seguinte)\n",
    "\n"
   ]
  },
  {
   "cell_type": "code",
   "execution_count": 1,
   "metadata": {},
   "outputs": [
    {
     "name": "stdout",
     "output_type": "stream",
     "text": [
      "5\n"
     ]
    }
   ],
   "source": [
    "a=1+4\n",
    "print (a)"
   ]
  },
  {
   "cell_type": "markdown",
   "metadata": {},
   "source": [
    "Para escrever símbolos ou  equações matemáticas o python usa LaTeX. No pesente contexto o importante é notar que o notebook interpreta como comando latex o que estiver entre os sinais \\$ e \\$. A célula seguinte tem vários exemplos, que se auto explicam. Clica duas vezes para veres como foram digitadas estas equações. "
   ]
  },
  {
   "cell_type": "markdown",
   "metadata": {},
   "source": [
    "$a$\n",
    "\n",
    "$a^{-25}$\n",
    "\n",
    "$\\sqrt{1-x^2}$\n",
    "\n",
    "$\\frac{1}{\\sqrt{1-x^2}}$\n",
    "\n",
    "$a_1,a_2,a_3,\\dots,a_n\\dots$\n",
    "\n",
    "$\\int_{0}^{\\infty}\\sin(x)dx$\n",
    "\n",
    "$\\alpha,\\beta,\\gamma,\\delta,\\Delta$\n",
    "$\\frac{1}{\\sqrt{1-x^2}}$"
   ]
  },
  {
   "cell_type": "markdown",
   "metadata": {},
   "source": [
    "Se escrevermos um equação em LaTeX entre dois pares de sinais \\$ $$\\dots\\frac{1}{\\sqrt{1-x^2}}$$ ela aparece numa linha separada."
   ]
  },
  {
   "cell_type": "markdown",
   "metadata": {},
   "source": [
    "Para uma iniciação á notação matemática do LaTeX ver esta [cábula (cheatSheet)](https://users.dickinson.edu/~richesod/latex/latexcheatsheet.pdf) de duas páginas, criada por Dave Richeson do Dickinson College, que contém o código latex de qualquer equação que alguma vez precises. "
   ]
  },
  {
   "cell_type": "markdown",
   "metadata": {},
   "source": [
    "Um notebook pode incluir imagens lidas de um ficheiro, como esta <img src=\"Figuras/avecb.png\", width=200>  "
   ]
  },
  {
   "cell_type": "markdown",
   "metadata": {},
   "source": [
    "Para poder usar todas as funcionalidades que a comunidade Pyhton criou para trabalho científico (funções matemáticas, vectores, gráficos) é necessário carregar alguns módulos importantes do Python. A célula seguinte faz essa incialização ( é a primeira dos meus notebooks), e a seguir ilustramos algumas funcionalidades. Para usar mais extensamente convém aprender Python. \n"
   ]
  },
  {
   "cell_type": "code",
   "execution_count": 3,
   "metadata": {
    "collapsed": true
   },
   "outputs": [],
   "source": [
    "%matplotlib inline                         \n",
    "from scipy.stats import  binom, norm       # modulo de estatistica importaçãoi de duas funções\n",
    "import numpy as np                         # modulo numérico , essencial para trabalho cientifico; chamado\n",
    "                                           # com nome abreviado np\n",
    "from matplotlib.pylab import *             # modulo de graficos. "
   ]
  },
  {
   "cell_type": "code",
   "execution_count": 4,
   "metadata": {},
   "outputs": [
    {
     "data": {
      "text/plain": [
       "0.99999999999999989"
      ]
     },
     "execution_count": 4,
     "metadata": {},
     "output_type": "execute_result"
    }
   ],
   "source": [
    "np.tan(np.pi/4)                         # funcao tangente do modulo numpy importado com nome np"
   ]
  },
  {
   "cell_type": "code",
   "execution_count": 6,
   "metadata": {},
   "outputs": [
    {
     "data": {
      "text/plain": [
       "0.1353352832366127"
      ]
     },
     "execution_count": 6,
     "metadata": {},
     "output_type": "execute_result"
    }
   ],
   "source": [
    "np.exp(-2)   # função exponencial do módulo numpy"
   ]
  },
  {
   "cell_type": "code",
   "execution_count": 6,
   "metadata": {},
   "outputs": [
    {
     "name": "stdout",
     "output_type": "stream",
     "text": [
      "[ 0.   0.1  0.2  0.3  0.4  0.5  0.6  0.7  0.8  0.9  1.   1.1  1.2  1.3  1.4\n",
      "  1.5  1.6  1.7  1.8  1.9  2.   2.1  2.2  2.3  2.4  2.5  2.6  2.7  2.8  2.9\n",
      "  3.   3.1  3.2  3.3  3.4  3.5  3.6  3.7  3.8  3.9  4.   4.1  4.2  4.3  4.4\n",
      "  4.5  4.6  4.7  4.8  4.9  5.   5.1  5.2  5.3  5.4  5.5  5.6  5.7  5.8  5.9\n",
      "  6.   6.1  6.2  6.3  6.4  6.5  6.6  6.7  6.8  6.9  7.   7.1  7.2  7.3  7.4\n",
      "  7.5  7.6  7.7  7.8  7.9  8.   8.1  8.2  8.3  8.4  8.5  8.6  8.7  8.8  8.9\n",
      "  9.   9.1  9.2  9.3  9.4  9.5  9.6  9.7  9.8  9.9]\n"
     ]
    }
   ],
   "source": [
    "x=np.arange(0,10,.1)\n",
    "print(x)"
   ]
  },
  {
   "cell_type": "code",
   "execution_count": 11,
   "metadata": {},
   "outputs": [
    {
     "data": {
      "text/plain": [
       "[<matplotlib.lines.Line2D at 0x7f869948a290>]"
      ]
     },
     "execution_count": 11,
     "metadata": {},
     "output_type": "execute_result"
    },
    {
     "data": {
      "image/png": "[encoded data removed]",
      "text/plain": [
       "<matplotlib.figure.Figure at 0x7f86bcba6d10>"
      ]
     },
     "metadata": {},
     "output_type": "display_data"
    }
   ],
   "source": [
    "x= np.arange(0,10,.1)               # lista de abcissas de 0 a 9.9 por intervalos de 0.1\n",
    "y = np.sin(x)                       # lista de ordenadas\n",
    "plot(x,y)                           # plot mais simples, duas listas de valores de x e y"
   ]
  },
  {
   "cell_type": "code",
   "execution_count": 5,
   "metadata": {},
   "outputs": [
    {
     "name": "stdout",
     "output_type": "stream",
     "text": [
      "[ 0.   0.1  0.2  0.3  0.4  0.5  0.6  0.7  0.8  0.9  1.   1.1  1.2  1.3  1.4\n",
      "  1.5  1.6  1.7  1.8  1.9  2.   2.1  2.2  2.3  2.4  2.5  2.6  2.7  2.8  2.9\n",
      "  3.   3.1  3.2  3.3  3.4  3.5  3.6  3.7  3.8  3.9  4.   4.1  4.2  4.3  4.4\n",
      "  4.5  4.6  4.7  4.8  4.9  5.   5.1  5.2  5.3  5.4  5.5  5.6  5.7  5.8  5.9\n",
      "  6.   6.1  6.2  6.3  6.4  6.5  6.6  6.7  6.8  6.9  7.   7.1  7.2  7.3  7.4\n",
      "  7.5  7.6  7.7  7.8  7.9  8.   8.1  8.2  8.3  8.4  8.5  8.6  8.7  8.8  8.9\n",
      "  9.   9.1  9.2  9.3  9.4  9.5  9.6  9.7  9.8  9.9]\n"
     ]
    }
   ],
   "source": [
    "print (x)"
   ]
  },
  {
   "cell_type": "code",
   "execution_count": 6,
   "metadata": {},
   "outputs": [
    {
     "name": "stdout",
     "output_type": "stream",
     "text": [
      "[ 0.          0.09983342  0.19866933  0.29552021  0.38941834  0.47942554\n",
      "  0.56464247  0.64421769  0.71735609  0.78332691  0.84147098  0.89120736\n",
      "  0.93203909  0.96355819  0.98544973  0.99749499  0.9995736   0.99166481\n",
      "  0.97384763  0.94630009  0.90929743  0.86320937  0.8084964   0.74570521\n",
      "  0.67546318  0.59847214  0.51550137  0.42737988  0.33498815  0.23924933\n",
      "  0.14112001  0.04158066 -0.05837414 -0.15774569 -0.2555411  -0.35078323\n",
      " -0.44252044 -0.52983614 -0.61185789 -0.68776616 -0.7568025  -0.81827711\n",
      " -0.87157577 -0.91616594 -0.95160207 -0.97753012 -0.993691   -0.99992326\n",
      " -0.99616461 -0.98245261 -0.95892427 -0.92581468 -0.88345466 -0.83226744\n",
      " -0.77276449 -0.70554033 -0.63126664 -0.55068554 -0.46460218 -0.37387666\n",
      " -0.2794155  -0.1821625  -0.0830894   0.0168139   0.1165492   0.21511999\n",
      "  0.31154136  0.40484992  0.49411335  0.57843976  0.6569866   0.72896904\n",
      "  0.79366786  0.85043662  0.8987081   0.93799998  0.96791967  0.98816823\n",
      "  0.99854335  0.99894134  0.98935825  0.96988981  0.94073056  0.90217183\n",
      "  0.85459891  0.79848711  0.7343971   0.66296923  0.58491719  0.50102086\n",
      "  0.41211849  0.31909836  0.22288991  0.12445442  0.02477543 -0.07515112\n",
      " -0.17432678 -0.27176063 -0.36647913 -0.45753589]\n"
     ]
    }
   ],
   "source": [
    "print (np.sin(x))"
   ]
  },
  {
   "cell_type": "markdown",
   "metadata": {},
   "source": [
    "## Exercícios"
   ]
  },
  {
   "cell_type": "markdown",
   "metadata": {},
   "source": [
    "###  1. Criação de um Notebook"
   ]
  },
  {
   "cell_type": "markdown",
   "metadata": {},
   "source": [
    "Cria um novo notebook com o seguinte conteúdo mínimo: \n",
    "\n",
    "- Um título;\n",
    "\n",
    "- uma célula de texto;\n",
    "\n",
    "- Uma célula com três equações;\n",
    "\n",
    "- uma  impressão (no notebook) de uma tabela da função $\\exp(-x^2)$ para $x \\in [-2,2] $;\n",
    "\n",
    "- um gráfico desta mesma função. \n"
   ]
  },
  {
   "cell_type": "markdown",
   "metadata": {},
   "source": [
    "### 2. Problema de Fermi"
   ]
  },
  {
   "cell_type": "markdown",
   "metadata": {},
   "source": [
    "Enrico Fermi, um físico excpecional, ficou famoso não só pelos seus muitos feitos em Física, mas também  por uma capacidade rara de estimar grandezas com quase nenhuma informação. Resolve o seguite *Problema de Fermi*\n",
    "\n",
    "Estima o número de grãos de arroz que existem num saco de 1 Kg. Não uses nenhuma informação a não ser o conhecimento que já tens. Nada de perguntar ao Google. \n",
    "\n",
    "Depois de obter a tua estimativa considera o seguinte: Há na sala uma amostra de arroz e na secretaria de Física (D. Armanda) uma balança. Verifica a tua estimativa."
   ]
  }
 ],
 "metadata": {
  "kernelspec": {
   "display_name": "Python 2",
   "language": "python",
   "name": "python2"
  },
  "language_info": {
   "codemirror_mode": {
    "name": "ipython",
    "version": 2
   },
   "file_extension": ".py",
   "mimetype": "text/x-python",
   "name": "python",
   "nbconvert_exporter": "python",
   "pygments_lexer": "ipython2",
   "version": "2.7.6"
  }
 },
 "nbformat": 4,
 "nbformat_minor": 2
}
